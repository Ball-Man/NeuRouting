{
 "cells": [
  {
   "cell_type": "code",
   "execution_count": 1,
   "metadata": {
    "pycharm": {
     "name": "#%%\n"
    }
   },
   "outputs": [],
   "source": [
    "import pandas as pd\n",
    "import numpy as np\n",
    "import seaborn as sns\n",
    "from matplotlib import pyplot as plt\n",
    "import itertools\n",
    "\n",
    "n = 100\n",
    "vmin = 10.75 if n == 50 else 16\n",
    "vmax = 11 if n == 50 else 16.5\n",
    "path = f\"../res/stats/n{n}/\"\n",
    "\n",
    "destroy = [\"point\", \"tour\", \"neural\"]\n",
    "repair = [\"scip\", \"greedy\", \"neural\"]"
   ]
  },
  {
   "cell_type": "markdown",
   "metadata": {},
   "source": [
    "## NLNS"
   ]
  },
  {
   "cell_type": "code",
   "execution_count": 2,
   "metadata": {
    "pycharm": {
     "name": "#%%\n"
    }
   },
   "outputs": [
    {
     "data": {
      "text/html": [
       "<div>\n",
       "<style scoped>\n",
       "    .dataframe tbody tr th:only-of-type {\n",
       "        vertical-align: middle;\n",
       "    }\n",
       "\n",
       "    .dataframe tbody tr th {\n",
       "        vertical-align: top;\n",
       "    }\n",
       "\n",
       "    .dataframe thead th {\n",
       "        text-align: right;\n",
       "    }\n",
       "</style>\n",
       "<table border=\"1\" class=\"dataframe\">\n",
       "  <thead>\n",
       "    <tr style=\"text-align: right;\">\n",
       "      <th></th>\n",
       "      <th>destroy</th>\n",
       "      <th>repair</th>\n",
       "      <th>cost</th>\n",
       "    </tr>\n",
       "  </thead>\n",
       "  <tbody>\n",
       "    <tr>\n",
       "      <th>0</th>\n",
       "      <td>neural</td>\n",
       "      <td>greedy</td>\n",
       "      <td>16.237503</td>\n",
       "    </tr>\n",
       "    <tr>\n",
       "      <th>1</th>\n",
       "      <td>neural</td>\n",
       "      <td>neural</td>\n",
       "      <td>16.035981</td>\n",
       "    </tr>\n",
       "    <tr>\n",
       "      <th>2</th>\n",
       "      <td>neural</td>\n",
       "      <td>exact</td>\n",
       "      <td>16.424531</td>\n",
       "    </tr>\n",
       "    <tr>\n",
       "      <th>3</th>\n",
       "      <td>point</td>\n",
       "      <td>greedy</td>\n",
       "      <td>16.097022</td>\n",
       "    </tr>\n",
       "    <tr>\n",
       "      <th>4</th>\n",
       "      <td>point</td>\n",
       "      <td>neural</td>\n",
       "      <td>15.969997</td>\n",
       "    </tr>\n",
       "    <tr>\n",
       "      <th>5</th>\n",
       "      <td>point</td>\n",
       "      <td>exact</td>\n",
       "      <td>16.523238</td>\n",
       "    </tr>\n",
       "    <tr>\n",
       "      <th>6</th>\n",
       "      <td>tour</td>\n",
       "      <td>greedy</td>\n",
       "      <td>16.260567</td>\n",
       "    </tr>\n",
       "    <tr>\n",
       "      <th>7</th>\n",
       "      <td>tour</td>\n",
       "      <td>neural</td>\n",
       "      <td>16.112183</td>\n",
       "    </tr>\n",
       "    <tr>\n",
       "      <th>8</th>\n",
       "      <td>tour</td>\n",
       "      <td>exact</td>\n",
       "      <td>16.532629</td>\n",
       "    </tr>\n",
       "  </tbody>\n",
       "</table>\n",
       "</div>"
      ],
      "text/plain": [
       "  destroy  repair       cost\n",
       "0  neural  greedy  16.237503\n",
       "1  neural  neural  16.035981\n",
       "2  neural   exact  16.424531\n",
       "3   point  greedy  16.097022\n",
       "4   point  neural  15.969997\n",
       "5   point   exact  16.523238\n",
       "6    tour  greedy  16.260567\n",
       "7    tour  neural  16.112183\n",
       "8    tour   exact  16.532629"
      ]
     },
     "execution_count": 2,
     "metadata": {},
     "output_type": "execute_result"
    }
   ],
   "source": [
    "nlns = {}\n",
    "for d in destroy:\n",
    "    for r in repair:\n",
    "        key = f\"destroy_{d}_repair_{r}\"\n",
    "        nlns[key] = pd.read_csv(path + f\"{key}_n{n}.csv\", index_col=0)\n",
    "        nlns[key][\"destroy\"] = d\n",
    "        nlns[key][\"repair\"] = r\n",
    "\n",
    "dfs = list(nlns.values())\n",
    "stats = pd.concat(dfs)\n",
    "\n",
    "mean_stats = stats.groupby([\"destroy\", \"repair\"]).mean()\n",
    "mean_stats.reset_index(inplace=True)\n",
    "mean_stats = mean_stats[[\"destroy\", \"repair\", \"cost\"]]\n",
    "mean_stats = mean_stats.replace(\"scip\", \"exact\")\n",
    "mean_stats"
   ]
  },
  {
   "cell_type": "code",
   "execution_count": 3,
   "metadata": {
    "pycharm": {
     "name": "#%%\n"
    }
   },
   "outputs": [
    {
     "data": {
      "text/html": [
       "<div>\n",
       "<style scoped>\n",
       "    .dataframe tbody tr th:only-of-type {\n",
       "        vertical-align: middle;\n",
       "    }\n",
       "\n",
       "    .dataframe tbody tr th {\n",
       "        vertical-align: top;\n",
       "    }\n",
       "\n",
       "    .dataframe thead th {\n",
       "        text-align: right;\n",
       "    }\n",
       "</style>\n",
       "<table border=\"1\" class=\"dataframe\">\n",
       "  <thead>\n",
       "    <tr style=\"text-align: right;\">\n",
       "      <th>destroy</th>\n",
       "      <th>point</th>\n",
       "      <th>tour</th>\n",
       "      <th>neural</th>\n",
       "    </tr>\n",
       "    <tr>\n",
       "      <th>repair</th>\n",
       "      <th></th>\n",
       "      <th></th>\n",
       "      <th></th>\n",
       "    </tr>\n",
       "  </thead>\n",
       "  <tbody>\n",
       "    <tr>\n",
       "      <th>neural</th>\n",
       "      <td>15.969997</td>\n",
       "      <td>16.112183</td>\n",
       "      <td>16.035981</td>\n",
       "    </tr>\n",
       "    <tr>\n",
       "      <th>greedy</th>\n",
       "      <td>16.097022</td>\n",
       "      <td>16.260567</td>\n",
       "      <td>16.237503</td>\n",
       "    </tr>\n",
       "    <tr>\n",
       "      <th>exact</th>\n",
       "      <td>16.523238</td>\n",
       "      <td>16.532629</td>\n",
       "      <td>16.424531</td>\n",
       "    </tr>\n",
       "  </tbody>\n",
       "</table>\n",
       "</div>"
      ],
      "text/plain": [
       "destroy      point       tour     neural\n",
       "repair                                  \n",
       "neural   15.969997  16.112183  16.035981\n",
       "greedy   16.097022  16.260567  16.237503\n",
       "exact    16.523238  16.532629  16.424531"
      ]
     },
     "execution_count": 3,
     "metadata": {},
     "output_type": "execute_result"
    }
   ],
   "source": [
    "data = mean_stats.pivot(\"repair\", \"destroy\", \"cost\")\n",
    "data = data[destroy]\n",
    "data = data.reindex([\"neural\", \"greedy\", \"exact\"])\n",
    "data"
   ]
  },
  {
   "cell_type": "code",
   "execution_count": 4,
   "metadata": {
    "pycharm": {
     "name": "#%%\n"
    }
   },
   "outputs": [
    {
     "data": {
      "image/png": "[encoded data removed]",
      "text/plain": [
       "<Figure size 720x540 with 2 Axes>"
      ]
     },
     "metadata": {},
     "output_type": "display_data"
    }
   ],
   "source": [
    "sns.set(font_scale=1.75)\n",
    "plt.figure(figsize=(10, 7.5))\n",
    "cmap = sns.light_palette(\"seagreen\", as_cmap=True).reversed()\n",
    "cbar_kws={'label': 'Mean Cost', 'orientation': 'vertical'}\n",
    "ax = sns.heatmap(data, annot=True, fmt=\".2f\", vmin=vmin, vmax=vmax, cmap=cmap)\n",
    "plt.xlabel('Destroy Method')\n",
    "plt.ylabel('Repair Method')\n",
    "plt.show()"
   ]
  },
  {
   "cell_type": "markdown",
   "metadata": {},
   "source": [
    "## ANLNS"
   ]
  },
  {
   "cell_type": "code",
   "execution_count": 5,
   "metadata": {
    "scrolled": true
   },
   "outputs": [
    {
     "data": {
      "text/html": [
       "<div>\n",
       "<style scoped>\n",
       "    .dataframe tbody tr th:only-of-type {\n",
       "        vertical-align: middle;\n",
       "    }\n",
       "\n",
       "    .dataframe tbody tr th {\n",
       "        vertical-align: top;\n",
       "    }\n",
       "\n",
       "    .dataframe thead th {\n",
       "        text-align: right;\n",
       "    }\n",
       "</style>\n",
       "<table border=\"1\" class=\"dataframe\">\n",
       "  <thead>\n",
       "    <tr style=\"text-align: right;\">\n",
       "      <th></th>\n",
       "      <th>destroy1</th>\n",
       "      <th>destroy2</th>\n",
       "      <th>cost</th>\n",
       "    </tr>\n",
       "  </thead>\n",
       "  <tbody>\n",
       "    <tr>\n",
       "      <th>0</th>\n",
       "      <td>neural</td>\n",
       "      <td>neural</td>\n",
       "      <td>16.035981</td>\n",
       "    </tr>\n",
       "    <tr>\n",
       "      <th>1</th>\n",
       "      <td>point</td>\n",
       "      <td>neural</td>\n",
       "      <td>15.933830</td>\n",
       "    </tr>\n",
       "    <tr>\n",
       "      <th>2</th>\n",
       "      <td>point</td>\n",
       "      <td>point</td>\n",
       "      <td>15.969997</td>\n",
       "    </tr>\n",
       "    <tr>\n",
       "      <th>3</th>\n",
       "      <td>point</td>\n",
       "      <td>tour</td>\n",
       "      <td>16.031496</td>\n",
       "    </tr>\n",
       "    <tr>\n",
       "      <th>4</th>\n",
       "      <td>tour</td>\n",
       "      <td>neural</td>\n",
       "      <td>16.052258</td>\n",
       "    </tr>\n",
       "    <tr>\n",
       "      <th>5</th>\n",
       "      <td>tour</td>\n",
       "      <td>tour</td>\n",
       "      <td>16.112183</td>\n",
       "    </tr>\n",
       "  </tbody>\n",
       "</table>\n",
       "</div>"
      ],
      "text/plain": [
       "  destroy1 destroy2       cost\n",
       "0   neural   neural  16.035981\n",
       "1    point   neural  15.933830\n",
       "2    point    point  15.969997\n",
       "3    point     tour  16.031496\n",
       "4     tour   neural  16.052258\n",
       "5     tour     tour  16.112183"
      ]
     },
     "execution_count": 5,
     "metadata": {},
     "output_type": "execute_result"
    }
   ],
   "source": [
    "anlns = {}\n",
    "for d in destroy:\n",
    "    key = f\"destroy_{d}_repair_{repair[-1]}\"\n",
    "    anlns[key] = pd.read_csv(path + f\"{key}_n{n}.csv\", index_col=0)\n",
    "    anlns[key][\"destroy1\"] = d\n",
    "    anlns[key][\"destroy2\"] = d\n",
    "for d1, d2 in itertools.combinations(destroy, 2):\n",
    "    key = f\"destroy_{d1}+{d2}_repair_{repair[-1]}\"\n",
    "    anlns[key] = pd.read_csv(path + f\"{key}_n{n}.csv\", index_col=0)\n",
    "    anlns[key][\"destroy1\"] = d1\n",
    "    anlns[key][\"destroy2\"] = d2\n",
    "\n",
    "dfs = list(anlns.values())\n",
    "stats = pd.concat(dfs)\n",
    "\n",
    "mean_stats = stats.groupby([\"destroy1\", \"destroy2\"]).mean()\n",
    "mean_stats.reset_index(inplace=True)\n",
    "mean_stats = mean_stats[[\"destroy1\", \"destroy2\", \"cost\"]]\n",
    "mean_stats"
   ]
  },
  {
   "cell_type": "code",
   "execution_count": 6,
   "metadata": {},
   "outputs": [
    {
     "data": {
      "text/html": [
       "<div>\n",
       "<style scoped>\n",
       "    .dataframe tbody tr th:only-of-type {\n",
       "        vertical-align: middle;\n",
       "    }\n",
       "\n",
       "    .dataframe tbody tr th {\n",
       "        vertical-align: top;\n",
       "    }\n",
       "\n",
       "    .dataframe thead th {\n",
       "        text-align: right;\n",
       "    }\n",
       "</style>\n",
       "<table border=\"1\" class=\"dataframe\">\n",
       "  <thead>\n",
       "    <tr style=\"text-align: right;\">\n",
       "      <th>destroy1</th>\n",
       "      <th>point</th>\n",
       "      <th>tour</th>\n",
       "      <th>neural</th>\n",
       "    </tr>\n",
       "    <tr>\n",
       "      <th>destroy2</th>\n",
       "      <th></th>\n",
       "      <th></th>\n",
       "      <th></th>\n",
       "    </tr>\n",
       "  </thead>\n",
       "  <tbody>\n",
       "    <tr>\n",
       "      <th>point</th>\n",
       "      <td>15.969997</td>\n",
       "      <td>NaN</td>\n",
       "      <td>NaN</td>\n",
       "    </tr>\n",
       "    <tr>\n",
       "      <th>tour</th>\n",
       "      <td>16.031496</td>\n",
       "      <td>16.112183</td>\n",
       "      <td>NaN</td>\n",
       "    </tr>\n",
       "    <tr>\n",
       "      <th>neural</th>\n",
       "      <td>15.933830</td>\n",
       "      <td>16.052258</td>\n",
       "      <td>16.035981</td>\n",
       "    </tr>\n",
       "  </tbody>\n",
       "</table>\n",
       "</div>"
      ],
      "text/plain": [
       "destroy1      point       tour     neural\n",
       "destroy2                                 \n",
       "point     15.969997        NaN        NaN\n",
       "tour      16.031496  16.112183        NaN\n",
       "neural    15.933830  16.052258  16.035981"
      ]
     },
     "execution_count": 6,
     "metadata": {},
     "output_type": "execute_result"
    }
   ],
   "source": [
    "data = mean_stats.pivot(\"destroy2\", \"destroy1\", \"cost\")\n",
    "data = data[destroy]\n",
    "data = data.reindex(destroy)\n",
    "data"
   ]
  },
  {
   "cell_type": "code",
   "execution_count": 7,
   "metadata": {
    "scrolled": true
   },
   "outputs": [
    {
     "data": {
      "image/png": "[encoded data removed]",
      "text/plain": [
       "<Figure size 720x540 with 2 Axes>"
      ]
     },
     "metadata": {},
     "output_type": "display_data"
    }
   ],
   "source": [
    "plt.figure(figsize=(10, 7.5))\n",
    "cmap = sns.light_palette(\"seagreen\", as_cmap=True).reversed()\n",
    "ax = sns.heatmap(data, annot=True, fmt=\".2f\", vmin=vmin, vmax=vmax, cmap=cmap)\n",
    "plt.xlabel('Destroy Method')\n",
    "plt.ylabel('Destroy Method')\n",
    "plt.show()"
   ]
  }
 ],
 "metadata": {
  "kernelspec": {
   "display_name": "Python 3 (ipykernel)",
   "language": "python",
   "name": "python3"
  },
  "language_info": {
   "codemirror_mode": {
    "name": "ipython",
    "version": 3
   },
   "file_extension": ".py",
   "mimetype": "text/x-python",
   "name": "python",
   "nbconvert_exporter": "python",
   "pygments_lexer": "ipython3",
   "version": "3.9.7"
  }
 },
 "nbformat": 4,
 "nbformat_minor": 1
}
