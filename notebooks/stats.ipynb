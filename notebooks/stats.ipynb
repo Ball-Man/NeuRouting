{
 "cells": [
  {
   "cell_type": "code",
   "execution_count": 1,
   "metadata": {
    "pycharm": {
     "name": "#%%\n"
    }
   },
   "outputs": [],
   "source": [
    "import pandas as pd\n",
    "import itertools\n",
    "\n",
    "\n",
    "def _float_format(fp: float, max_digits: int = 7) -> str:\n",
    "    # up to 'max_digits' (point included), except for 0\n",
    "    # still, take at least the number of digits up to the point\n",
    "    fp_digits = f'{fp:.{max_digits}f}'\n",
    "    integer_digits = fp_digits.find('.') - (1 if fp_digits.startswith('-') else 0)\n",
    "    decimal_digits = max(0, max_digits - integer_digits - 1)\n",
    "    fp = f'{fp:.{decimal_digits}f}'\n",
    "    return fp\n",
    "\n",
    "def table_latex(df, name):\n",
    "    # convert the dataset to latex, the do some manual postprocessing\n",
    "    latex = df.to_latex(\n",
    "        float_format=_float_format,\n",
    "        caption=f'Change depending on the DataFrame.',\n",
    "        bold_rows=True,\n",
    "        escape=False,\n",
    "        index=False\n",
    "    )\n",
    "    latex = latex.replace('\\\\toprule', '\\\\hline')\n",
    "    latex = latex.replace('\\\\midrule', '\\\\hline')\n",
    "    latex = latex.replace('\\\\bottomrule', '\\\\hline')\n",
    "    latex = latex.replace('\\\\textbf', '\\\\textit')\n",
    "    for col in df.columns:\n",
    "        latex = latex.replace(f'{col} &', '\\\\textbf{' + col + '} &')\n",
    "        latex = latex.replace(f'{col} \\\\', '\\\\textbf{' + col + '} \\\\')\n",
    "    with open(f'./{name}.tex', 'w') as f:\n",
    "        f.write(latex)"
   ]
  },
  {
   "cell_type": "code",
   "execution_count": 2,
   "metadata": {},
   "outputs": [],
   "source": [
    "n = 100\n",
    "path = f\"../res/stats/n{n}/\"\n",
    "\n",
    "destroy = [\"point\", \"tour\", \"neural\"]\n",
    "repair = [\"neural\"]"
   ]
  },
  {
   "cell_type": "markdown",
   "metadata": {},
   "source": [
    "## NLNS"
   ]
  },
  {
   "cell_type": "code",
   "execution_count": 3,
   "metadata": {
    "pycharm": {
     "name": "#%%\n"
    }
   },
   "outputs": [],
   "source": [
    "nlns = {}\n",
    "for d in destroy:\n",
    "    for r in repair:\n",
    "        key = f\"destroy_{d}_repair_{r}\"\n",
    "        nlns[key] = pd.read_csv(path + f\"{key}_n{n}.csv\", index_col=0)\n",
    "        nlns[key][\"destroy\"] = d\n",
    "        nlns[key][\"repair\"] = r"
   ]
  },
  {
   "cell_type": "markdown",
   "metadata": {},
   "source": [
    "## ANLNS"
   ]
  },
  {
   "cell_type": "code",
   "execution_count": 4,
   "metadata": {
    "pycharm": {
     "name": "#%%\n"
    }
   },
   "outputs": [],
   "source": [
    "for d1, d2 in itertools.combinations(destroy, 2):\n",
    "    if d1 != \"tour\":\n",
    "        key = f\"destroy_{d1}+{d2}_repair_neural\"\n",
    "        nlns[key] = pd.read_csv(path + f\"{key}_n{n}.csv\", index_col=0)\n",
    "        nlns[key][\"destroy\"] = f\"{d1}+{d2}\"\n",
    "        nlns[key][\"repair\"] = \"neural\"\n",
    "\n",
    "key = f\"destroy_{'+'.join(destroy)}_repair_neural\"\n",
    "nlns[key] = pd.read_csv(path + f\"{key}_n{n}.csv\", index_col=0)\n",
    "nlns[key][\"destroy\"] = '+'.join(destroy)\n",
    "nlns[key][\"repair\"] = \"neural\""
   ]
  },
  {
   "cell_type": "markdown",
   "metadata": {},
   "source": [
    "## Baselines"
   ]
  },
  {
   "cell_type": "code",
   "execution_count": 5,
   "metadata": {
    "pycharm": {
     "name": "#%%\n"
    }
   },
   "outputs": [
    {
     "data": {
      "text/html": [
       "<div>\n",
       "<style scoped>\n",
       "    .dataframe tbody tr th:only-of-type {\n",
       "        vertical-align: middle;\n",
       "    }\n",
       "\n",
       "    .dataframe tbody tr th {\n",
       "        vertical-align: top;\n",
       "    }\n",
       "\n",
       "    .dataframe thead th {\n",
       "        text-align: right;\n",
       "    }\n",
       "</style>\n",
       "<table border=\"1\" class=\"dataframe\">\n",
       "  <thead>\n",
       "    <tr style=\"text-align: right;\">\n",
       "      <th></th>\n",
       "      <th>name</th>\n",
       "      <th>cost</th>\n",
       "    </tr>\n",
       "  </thead>\n",
       "  <tbody>\n",
       "    <tr>\n",
       "      <th>0</th>\n",
       "      <td>lkh</td>\n",
       "      <td>15.749453</td>\n",
       "    </tr>\n",
       "    <tr>\n",
       "      <th>1</th>\n",
       "      <td>ortools</td>\n",
       "      <td>16.359535</td>\n",
       "    </tr>\n",
       "    <tr>\n",
       "      <th>2</th>\n",
       "      <td>scip</td>\n",
       "      <td>25.840413</td>\n",
       "    </tr>\n",
       "  </tbody>\n",
       "</table>\n",
       "</div>"
      ],
      "text/plain": [
       "      name       cost\n",
       "0      lkh  15.749453\n",
       "1  ortools  16.359535\n",
       "2     scip  25.840413"
      ]
     },
     "execution_count": 5,
     "metadata": {},
     "output_type": "execute_result"
    }
   ],
   "source": [
    "baselines = {\"lkh\": pd.read_csv(path + f\"lkh_n{n}.csv\", index_col=0),\n",
    "             \"ortools\": pd.read_csv(path + f\"ortools_n{n}.csv\", index_col=0),\n",
    "             \"scip\": pd.read_csv(path + f\"scip_n{n}.csv\", index_col=0)}\n",
    "\n",
    "dfs = list(baselines.values())\n",
    "names = list(baselines.keys())\n",
    "\n",
    "for df, name in zip(dfs, names):\n",
    "    df[\"name\"] = name\n",
    "\n",
    "bl_stats = pd.concat(dfs)\n",
    "\n",
    "bl_stats = bl_stats.groupby(\"name\").mean()\n",
    "bl_stats.reset_index(inplace=True)\n",
    "bl_stats = bl_stats[[\"name\", \"cost\"]]\n",
    "bl_stats"
   ]
  },
  {
   "cell_type": "markdown",
   "metadata": {},
   "source": [
    "## Generate LaTex Table"
   ]
  },
  {
   "cell_type": "code",
   "execution_count": 6,
   "metadata": {
    "pycharm": {
     "name": "#%%\n"
    }
   },
   "outputs": [
    {
     "data": {
      "text/html": [
       "<div>\n",
       "<style scoped>\n",
       "    .dataframe tbody tr th:only-of-type {\n",
       "        vertical-align: middle;\n",
       "    }\n",
       "\n",
       "    .dataframe tbody tr th {\n",
       "        vertical-align: top;\n",
       "    }\n",
       "\n",
       "    .dataframe thead th {\n",
       "        text-align: right;\n",
       "    }\n",
       "</style>\n",
       "<table border=\"1\" class=\"dataframe\">\n",
       "  <thead>\n",
       "    <tr style=\"text-align: right;\">\n",
       "      <th></th>\n",
       "      <th>destroy</th>\n",
       "      <th>repair</th>\n",
       "      <th>cost</th>\n",
       "    </tr>\n",
       "  </thead>\n",
       "  <tbody>\n",
       "    <tr>\n",
       "      <th>0</th>\n",
       "      <td>neural</td>\n",
       "      <td>neural</td>\n",
       "      <td>16.035981</td>\n",
       "    </tr>\n",
       "    <tr>\n",
       "      <th>1</th>\n",
       "      <td>point</td>\n",
       "      <td>neural</td>\n",
       "      <td>15.969997</td>\n",
       "    </tr>\n",
       "    <tr>\n",
       "      <th>2</th>\n",
       "      <td>point+neural</td>\n",
       "      <td>neural</td>\n",
       "      <td>15.933830</td>\n",
       "    </tr>\n",
       "    <tr>\n",
       "      <th>3</th>\n",
       "      <td>point+tour</td>\n",
       "      <td>neural</td>\n",
       "      <td>16.031496</td>\n",
       "    </tr>\n",
       "    <tr>\n",
       "      <th>4</th>\n",
       "      <td>point+tour+neural</td>\n",
       "      <td>neural</td>\n",
       "      <td>15.936926</td>\n",
       "    </tr>\n",
       "    <tr>\n",
       "      <th>5</th>\n",
       "      <td>tour</td>\n",
       "      <td>neural</td>\n",
       "      <td>16.112183</td>\n",
       "    </tr>\n",
       "  </tbody>\n",
       "</table>\n",
       "</div>"
      ],
      "text/plain": [
       "             destroy  repair       cost\n",
       "0             neural  neural  16.035981\n",
       "1              point  neural  15.969997\n",
       "2       point+neural  neural  15.933830\n",
       "3         point+tour  neural  16.031496\n",
       "4  point+tour+neural  neural  15.936926\n",
       "5               tour  neural  16.112183"
      ]
     },
     "execution_count": 6,
     "metadata": {},
     "output_type": "execute_result"
    }
   ],
   "source": [
    "dfs = list(nlns.values())\n",
    "stats = pd.concat(dfs)\n",
    "\n",
    "mean_stats = stats.groupby([\"destroy\", \"repair\"]).mean()\n",
    "mean_stats.reset_index(inplace=True)\n",
    "mean_stats = mean_stats[[\"destroy\", \"repair\", \"cost\"]]\n",
    "mean_stats"
   ]
  },
  {
   "cell_type": "code",
   "execution_count": 7,
   "metadata": {
    "pycharm": {
     "name": "#%%\n"
    }
   },
   "outputs": [],
   "source": [
    "# table_latex(mean_stats, \"mean_stats\")"
   ]
  }
 ],
 "metadata": {
  "kernelspec": {
   "display_name": "Python 3 (ipykernel)",
   "language": "python",
   "name": "python3"
  },
  "language_info": {
   "codemirror_mode": {
    "name": "ipython",
    "version": 3
   },
   "file_extension": ".py",
   "mimetype": "text/x-python",
   "name": "python",
   "nbconvert_exporter": "python",
   "pygments_lexer": "ipython3",
   "version": "3.9.7"
  }
 },
 "nbformat": 4,
 "nbformat_minor": 1
}
